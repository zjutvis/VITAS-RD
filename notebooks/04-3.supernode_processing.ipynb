{
 "cells": [
  {
   "metadata": {
    "ExecuteTime": {
     "end_time": "2025-03-25T12:11:29.329580Z",
     "start_time": "2025-03-25T12:11:29.326694Z"
    }
   },
   "cell_type": "code",
   "source": [
    "# superNode, size,direct_ratio,p2p_ratio,influence,radius,rich_club,clustering,betweenness,tier1_ratio,tier2_ratio\n",
    "# nodes, MDSanglesuperNodeanglefield\n",
    "# mdsprocess, "
   ],
   "id": "c4f385249cbf7e51",
   "outputs": [],
   "execution_count": 8
  },
  {
   "metadata": {
    "ExecuteTime": {
     "end_time": "2025-03-25T14:17:14.032340Z",
     "start_time": "2025-03-25T14:17:14.023378Z"
    }
   },
   "cell_type": "code",
   "source": [
    "import pandas as pd\n",
    "import numpy as np\n",
    "from sklearn.preprocessing import StandardScaler\n",
    "from sklearn.manifold import MDS\n",
    "import matplotlib.pyplot as plt\n",
    "import os\n",
    "\n",
    "# defineprocesssuperNode, save\n",
    "def process_supernode_for_month(date):\n",
    " \"\"\"\n",
    " processsuperNodedata, MDS, generate\n",
    " ",
    " :\n",
    " date: , ( \"202401\")\n",
    " ",
    " :\n",
    " processDataFrame\n",
    " \"\"\"\n",
    " # readsuperNodedata\n",
    " supernode_path = f'../visualization/assets/data/{date}/handle/superNode.csv'\n",
    " ",
    " if not os.path.exists(supernode_path):\n",
    " print(f\"File not found: {supernode_path}\")\n",
    " return None\n",
    " ",
    " print(f\"Processing superNode for {date}\")\n",
    " data = pd.read_csv(supernode_path)\n",
    " ",
    " # column\n",
    " feature_columns = ['size', 'direct_ratio', 'p2p_ratio', 'influence', ",
    " 'radius', 'rich_club', 'clustering', 'betweenness',\n",
    " 'tier1_ratio', 'tier2_ratio']\n",
    " ",
    " # columnexists\n",
    " available_features = [col for col in feature_columns if col in data.columns]\n",
    " ",
    " if len(available_features) < 2:\n",
    " print(f\"Not enough features available for {date}\")\n",
    " return None\n",
    " ",
    " # data, 0\n",
    " for col in available_features:\n",
    " if data[col].isna().any():\n",
    " data[col] = data[col].fillna(0)\n",
    " ",
    " # ",
    " for col in available_features:\n",
    " data[col] = data[col].round(2)\n",
    " ",
    " # matrix\n",
    " X = data[available_features].values\n",
    " ",
    " # data, ",
    " scaler = StandardScaler()\n",
    " X_scaled = scaler.fit_transform(X)\n",
    " ",
    " # MDS\n",
    " mds = MDS(n_components=2, random_state=42, normalized_stress='auto')\n",
    " X_mds = mds.fit_transform(X_scaled)\n",
    " ",
    " # (0-360)\n",
    " def cartesian_to_angle(x, y):\n",
    " angle = np.degrees(np.arctan2(y, x))\n",
    " # 0-360range\n",
    " if angle < 0:\n",
    " angle += 360\n",
    " return angle\n",
    " ",
    " angles = np.array([cartesian_to_angle(x, y) for x, y in X_mds])\n",
    " ",
    " # addRaw data\n",
    " data['x_mds'] = X_mds[:, 0].round(2)\n",
    " data['y_mds'] = X_mds[:, 1].round(2)\n",
    " data['angle'] = angles.round(2)\n",
    " ",
    " # ",
    " data['distance'] = np.sqrt(data['x_mds']**2 + data['y_mds']**2).round(2)\n",
    " ",
    " # save\n",
    " result_path = f'../visualization/assets/data/{date}/handle/superNode_with_angle.csv'\n",
    " data.to_csv(result_path, index=False)\n",
    " print(f\"Saved results to {result_path}\")\n",
    "\n",
    " ",
    " return data\n",
    "\n"
   ],
   "id": "53342bb921d7bfe",
   "outputs": [],
   "execution_count": 3
  },
  {
   "metadata": {
    "ExecuteTime": {
     "end_time": "2025-03-25T14:17:15.437153Z",
     "start_time": "2025-03-25T14:17:14.743463Z"
    }
   },
   "cell_type": "code",
   "source": [
    "# process202401202410\n",
    "for date in range(202401, 202411):\n",
    " try:\n",
    " process_supernode_for_month(str(date))\n",
    " except Exception as e:\n",
    " print(f\"Error processing {date}: {str(e)}\")\n"
   ],
   "id": "9dfd52d672bb4e",
   "outputs": [
    {
     "name": "stdout",
     "output_type": "stream",
     "text": [
      "Processing superNode for 202401\n",
      "Saved results to ../visualization/assets/data/202401/handle/superNode_with_angle.csv\n",
      "Processing superNode for 202402\n",
      "Saved results to ../visualization/assets/data/202402/handle/superNode_with_angle.csv\n",
      "Processing superNode for 202403\n",
      "Saved results to ../visualization/assets/data/202403/handle/superNode_with_angle.csv\n",
      "Processing superNode for 202404\n",
      "Saved results to ../visualization/assets/data/202404/handle/superNode_with_angle.csv\n",
      "Processing superNode for 202405\n",
      "Saved results to ../visualization/assets/data/202405/handle/superNode_with_angle.csv\n",
      "Processing superNode for 202406\n",
      "Saved results to ../visualization/assets/data/202406/handle/superNode_with_angle.csv\n",
      "Processing superNode for 202407\n",
      "Saved results to ../visualization/assets/data/202407/handle/superNode_with_angle.csv\n",
      "Processing superNode for 202408\n",
      "Saved results to ../visualization/assets/data/202408/handle/superNode_with_angle.csv\n",
      "Processing superNode for 202409\n",
      "Saved results to ../visualization/assets/data/202409/handle/superNode_with_angle.csv\n",
      "Processing superNode for 202410\n",
      "Saved results to ../visualization/assets/data/202410/handle/superNode_with_angle.csv\n"
     ]
    }
   ],
   "execution_count": 4
  },
  {
   "metadata": {},
   "cell_type": "code",
   "outputs": [],
   "execution_count": null,
   "source": "",
   "id": "fda814d1d48969ae"
  }
 ],
 "metadata": {
  "kernelspec": {
   "display_name": "Python 3",
   "language": "python",
   "name": "python3"
  },
  "language_info": {
   "codemirror_mode": {
    "name": "ipython",
    "version": 2
   },
   "file_extension": ".py",
   "mimetype": "text/x-python",
   "name": "python",
   "nbconvert_exporter": "python",
   "pygments_lexer": "ipython2",
   "version": "2.7.6"
  }
 },
 "nbformat": 4,
 "nbformat_minor": 5
}