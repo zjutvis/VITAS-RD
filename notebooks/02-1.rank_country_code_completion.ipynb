{
 "cells": [
  {
   "cell_type": "code",
   "execution_count": null,
   "id": "initial_id",
   "metadata": {
    "collapsed": true
   },
   "outputs": [],
   "source": [
    "# rankdatacountryfieldcompletion\n",
    "# 1.readtimerange202401-2024-10 rankdata, periodprocess\n",
    "# 2.countrydata, isoencoding\n",
    "# 3.periodprocess, country"
   ]
  },
  {
   "metadata": {
    "ExecuteTime": {
     "end_time": "2025-03-23T13:59:23.755910Z",
     "start_time": "2025-03-23T13:59:21.876878Z"
    }
   },
   "cell_type": "code",
   "source": [
    "import pandas as pd\n",
    "import numpy as np\n",
    "from pathlib import Path\n",
    "import reverse_geocoder as rg\n",
    "import time\n",
    "\n",
    "\n",
    "def get_country_from_coords(lat, lon):\n",
    " \"\"\", ISOencoding\"\"\"\n",
    " try:\n",
    " result = rg.search((lat, lon))\n",
    " if result and len(result) > 0:\n",
    " return result[0]['cc'] # ISOencoding\n",
    " except Exception as e:\n",
    " print(f\": {e}\")\n",
    " return None\n",
    "\n",
    "\n",
    "# Periods to process\n",
    "time_periods = [f\"2024{str(i).zfill(2)}\" for i in range(1, 11)]\n",
    "\n",
    "for period in time_periods:\n",
    " print(f\"\\nProcessing period: {period}\")\n",
    "\n",
    " # Build file paths\n",
    " base_path = Path(\"../visualization/assets/data\")\n",
    " rank_file = base_path / period / f\"rank{period}.csv\"\n",
    "\n",
    " # Check if files exist\n",
    " if not rank_file.exists():\n",
    " print(f\"fileexists, skipperiod {period}\")\n",
    " continue\n",
    "\n",
    " # Read data\n",
    " try:\n",
    " rank_df = pd.read_csv(rank_file)\n",
    " print(f\"process: {len(rank_df)} nodes\")\n",
    "\n",
    " # processcountry\n",
    " empty_country_mask = rank_df['country'].isna() | (rank_df['country'] == '') | (rank_df['country'] == '0')\n",
    " empty_country_count_before = empty_country_mask.sum()\n",
    " print(f\"process {empty_country_count_before} nodescountry\")\n",
    "\n",
    " # country, skipprocess\n",
    " if empty_country_count_before == 0:\n",
    " print(f\"periodcountry, skip\")\n",
    " continue\n",
    "\n",
    " # process\n",
    " rows_to_process = rank_df[empty_country_mask].index\n",
    "\n",
    " # add\n",
    " processed_count = 0\n",
    " updated_count = 0\n",
    "\n",
    " # process50\n",
    " progress_interval = min(50, len(rows_to_process))\n",
    "\n",
    " print(rows_to_process)\n",
    " # countrynodeprocess\n",
    " for idx in rows_to_process:\n",
    " row = rank_df.iloc[idx]\n",
    " lat = row['latitude']\n",
    " lon = row['longitude']\n",
    "\n",
    " # check\n",
    " if not (pd.isna(lat) or pd.isna(lon)):\n",
    " country_code = get_country_from_coords(lat, lon)\n",
    " if country_code:\n",
    " rank_df.at[idx, 'country'] = country_code\n",
    " updated_count += 1\n",
    "\n",
    " processed_count += 1\n",
    " # ",
    " if processed_count % progress_interval == 0 or processed_count == len(rows_to_process):\n",
    " print(f\": {processed_count}/{len(rows_to_process)} ({updated_count} )\")\n",
    "\n",
    " # process200, API\n",
    " if processed_count % 200 == 0:\n",
    " time.sleep(0.5)\n",
    "\n",
    " # processcountry\n",
    " empty_country_count_after = (rank_df['country'].isna() | (rank_df['country'] == '') | (rank_df['country'] == '0')).sum()\n",
    "\n",
    " # Print processing results\n",
    " print(f\"process: {empty_country_count_before - empty_country_count_after} country\")\n",
    " print(f\"process {empty_country_count_after} nodescountry\")\n",
    "\n",
    " # Save processed data\n",
    " rank_df.to_csv(rank_file, index=False)\n",
    " print(f\"Save processed datapath: {rank_file}\")\n",
    "\n",
    " except Exception as e:\n",
    " print(f\"Processing period {period} error occurred: {str(e)}\")\n",
    "\n",
    "print(\"\\nAll periods processed\")\n"
   ],
   "id": "292701e2710f2de1",
   "outputs": [
    {
     "name": "stdout",
     "output_type": "stream",
     "text": [
      "\n",
      "Processing period: 202401\n",
      "process: 58668 nodes\n",
      "process 0 nodescountry\n",
      "periodcountry, skip\n",
      "\n",
      "Processing period: 202402\n",
      "process: 58447 nodes\n",
      "process 0 nodescountry\n",
      "periodcountry, skip\n",
      "\n",
      "Processing period: 202403\n",
      "process: 58742 nodes\n",
      "process 0 nodescountry\n",
      "periodcountry, skip\n",
      "\n",
      "Processing period: 202404\n",
      "process: 58902 nodes\n",
      "process 0 nodescountry\n",
      "periodcountry, skip\n",
      "\n",
      "Processing period: 202405\n",
      "process: 58733 nodes\n",
      "process 0 nodescountry\n",
      "periodcountry, skip\n",
      "\n",
      "Processing period: 202406\n",
      "process: 58575 nodes\n",
      "process 0 nodescountry\n",
      "periodcountry, skip\n",
      "\n",
      "Processing period: 202407\n",
      "process: 58342 nodes\n",
      "process 0 nodescountry\n",
      "periodcountry, skip\n",
      "\n",
      "Processing period: 202408\n",
      "process: 58283 nodes\n",
      "process 0 nodescountry\n",
      "periodcountry, skip\n",
      "\n",
      "Processing period: 202409\n",
      "process: 58802 nodes\n",
      "process 0 nodescountry\n",
      "periodcountry, skip\n",
      "\n",
      "Processing period: 202410\n",
      "process: 76794 nodes\n",
      "process 0 nodescountry\n",
      "periodcountry, skip\n",
      "\n",
      "All periods processed\n"
     ]
    }
   ],
   "execution_count": 3
  },
  {
   "metadata": {
    "ExecuteTime": {
     "end_time": "2025-03-23T13:57:37.514130Z",
     "start_time": "2025-03-23T13:57:37.286704Z"
    }
   },
   "cell_type": "code",
   "source": [
    "import reverse_geocoder as rg\n",
    "result = rg.search((-21.6998251843482,-46.9342990229602))\n",
    "print(result)\n",
    "if result and len(result) > 0:\n",
    " print(result[0]['cc'])"
   ],
   "id": "13bbe8885a0bdb6c",
   "outputs": [
    {
     "name": "stdout",
     "output_type": "stream",
     "text": [
      "[{'lat': '-21.59556', 'lon': '-46.88861', 'name': 'Sao Jose do Rio Pardo', 'admin1': 'Sao Paulo', 'admin2': 'Sao Jose Do Rio Pardo', 'cc': 'BR'}]\n",
      "BR\n"
     ]
    }
   ],
   "execution_count": 2
  },
  {
   "metadata": {},
   "cell_type": "code",
   "outputs": [],
   "execution_count": null,
   "source": "",
   "id": "6c52bbad5fc14f43"
  }
 ],
 "metadata": {
  "kernelspec": {
   "display_name": "Python 3",
   "language": "python",
   "name": "python3"
  },
  "language_info": {
   "codemirror_mode": {
    "name": "ipython",
    "version": 2
   },
   "file_extension": ".py",
   "mimetype": "text/x-python",
   "name": "python",
   "nbconvert_exporter": "python",
   "pygments_lexer": "ipython2",
   "version": "2.7.6"
  }
 },
 "nbformat": 4,
 "nbformat_minor": 5
}