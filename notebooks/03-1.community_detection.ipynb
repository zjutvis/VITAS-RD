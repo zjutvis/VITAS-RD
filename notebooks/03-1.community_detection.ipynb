{
 "cells": [
  {
   "cell_type": "code",
   "execution_count": null,
   "id": "initial_id",
   "metadata": {
    "collapsed": true
   },
   "outputs": [],
   "source": [
    "# Refer to community detection in main\n",
    "# timerange202401-202410rankrekdatacommunity detection, nodescommunity informationsaverankfieldcommunity\n",
    "# Save the final rank to ../visualization/assets/data/XXX/handle/rankxxx.csv"
   ]
  },
  {
   "metadata": {
    "ExecuteTime": {
     "end_time": "2025-07-13T13:39:52.306980Z",
     "start_time": "2025-07-13T13:39:52.293896Z"
    }
   },
   "cell_type": "code",
   "source": [
    "import pandas as pd\n",
    "import networkx as nx\n",
    "import directedlouvain as dl\n",
    "import contextlib\n",
    "import os\n",
    "import sys\n",
    "\n",
    "# adddirectoryPythonpath, importcommunity\n",
    "sys.path.append('../')\n"
   ],
   "id": "5300e0351909fa26",
   "outputs": [
    {
     "ename": "ModuleNotFoundError",
     "evalue": "No module named 'directedlouvain'",
     "output_type": "error",
     "traceback": [
      "\u001b[0;31m---------------------------------------------------------------------------\u001b[0m",
      "\u001b[0;31mModuleNotFoundError\u001b[0m Traceback (most recent call last)",
      "Cell \u001b[0;32mIn[7], line 3\u001b[0m\n\u001b[1;32m 1\u001b[0m \u001b[38;5;28;01mimport\u001b[39;00m \u001b[38;5;21;01mpandas\u001b[39;00m \u001b[38;5;28;01mas\u001b[39;00m \u001b[38;5;21;01mpd\u001b[39;00m\n\u001b[1;32m 2\u001b[0m \u001b[38;5;28;01mimport\u001b[39;00m \u001b[38;5;21;01mnetworkx\u001b[39;00m \u001b[38;5;28;01mas\u001b[39;00m \u001b[38;5;21;01mnx\u001b[39;00m\n\u001b[0;32m----> 3\u001b[0m \u001b[38;5;28;01mimport\u001b[39;00m \u001b[38;5;21;01mdirectedlouvain\u001b[39;00m \u001b[38;5;28;01mas\u001b[39;00m \u001b[38;5;21;01mdl\u001b[39;00m\n\u001b[1;32m 4\u001b[0m \u001b[38;5;28;01mimport\u001b[39;00m \u001b[38;5;21;01mcontextlib\u001b[39;00m\n\u001b[1;32m 5\u001b[0m \u001b[38;5;28;01mimport\u001b[39;00m \u001b[38;5;21;01mos\u001b[39;00m\n",
      "\u001b[0;31mModuleNotFoundError\u001b[0m: No module named 'directedlouvain'"
     ]
    }
   ],
   "execution_count": 7
  },
  {
   "metadata": {
    "ExecuteTime": {
     "end_time": "2025-03-23T14:05:44.935057Z",
     "start_time": "2025-03-23T14:05:44.924975Z"
    }
   },
   "cell_type": "code",
   "source": [
    "def get_community(date):\n",
    " \"\"\"\n",
    " Run community detection and add community info to rank\n",
    " \"\"\"\n",
    " print(f\"Processing date: {date}\")\n",
    " ",
    " # readrankreldata\n",
    " rank = pd.read_csv(f'../visualization/assets/data/{date}/rank{date}.csv')\n",
    " rel = pd.read_csv(f'../visualization/assets/data/{date}/rel{date}.csv')\n",
    "\n",
    " ",
    " # Detect communities using directed Louvain\n",
    " dl_obj = dl.Community(f'../visualization/assets/data/{date}/rel1.txt', precision=0.000001, random=True)\n",
    " ",
    " # Create temporary directory to store intermediate results\n",
    " os.makedirs(f'../visualization/assets/data/{date}/temp', exist_ok=True)\n",
    " output = open(f'../visualization/assets/data/{date}/temp/logcom', \"w\")\n",
    " level = 0\n",
    " with contextlib.redirect_stdout(output):\n",
    " level = dl_obj.run(verbose=True)\n",
    " output.close()\n",
    " ",
    " # Get the final community partition\n",
    " partition = dl_obj.get_level(level - 1)\n",
    " ",
    " # Add community info to rank data\n",
    " for node, community_id in partition.items():\n",
    " rank.loc[rank['id'] == node, 'community'] = community_id\n",
    " ",
    " # Ensure the community column is integer\n",
    " if 'community' in rank.columns:\n",
    " rank = rank.astype({'community': 'int'})\n",
    " ",
    " # Create handle directory to store processed data\n",
    " os.makedirs(f'../visualization/assets/data/{date}/handle', exist_ok=True)\n",
    " ",
    " # Save the rank data with community info\n",
    " rank.to_csv(f'../visualization/assets/data/{date}/handle/rank{date}.csv', index=False)\n",
    " ",
    " # processreldata, addtypefieldedgecommunitytype\n",
    " rel['type'] = rel.apply(lambda row: handle_rel(row, partition), axis=1)\n",
    " rel.to_csv(f'../visualization/assets/data/{date}/handle/rel{date}.csv', index=False)\n",
    " ",
    " print(f\"Completed processing for {date}\")\n",
    " return rank, rel, partition\n"
   ],
   "id": "f75454ef1ca48841",
   "outputs": [],
   "execution_count": 19
  },
  {
   "metadata": {
    "ExecuteTime": {
     "end_time": "2025-03-23T14:05:45.814382Z",
     "start_time": "2025-03-23T14:05:45.810297Z"
    }
   },
   "cell_type": "code",
   "source": [
    "def handle_rel(row, partition):\n",
    " \"\"\"\n",
    " processrelationdata, edgetype(communitycommunity)\n",
    " \"\"\"\n",
    " source_community = partition[row['source']]\n",
    " target_community = partition[row['target']]\n",
    " ",
    " if source_community == target_community:\n",
    " return str(source_community)\n",
    " else:\n",
    " return f\"{source_community}-{target_community}\"\n"
   ],
   "id": "c090e70327738998",
   "outputs": [],
   "execution_count": 20
  },
  {
   "metadata": {
    "ExecuteTime": {
     "end_time": "2025-03-23T14:12:40.090187Z",
     "start_time": "2025-03-23T14:05:46.690128Z"
    }
   },
   "cell_type": "code",
   "source": [
    "# Execute community detection across the time range\n",
    "# Process data from 202401 to 202410\n",
    "for date in range(202401, 202411):\n",
    " try:\n",
    " rank, rel, partition = get_community(date)\n",
    " print(f\"Successfully processed {date}\")\n",
    " except Exception as e:\n",
    " print(f\"Error processing {date}: {e}\")\n"
   ],
   "id": "1dc03c5d759e11ff",
   "outputs": [
    {
     "name": "stdout",
     "output_type": "stream",
     "text": [
      "Processing date: 202401\n"
     ]
    },
    {
     "name": "stderr",
     "output_type": "stream",
     "text": [
      "level 0:\n",
      " network size: 58668 nodes, 547798 arcs, 8.28012e+06 weight.\n",
      " modularity increased from -0.0040342 to 0.336623\n",
      "level 1:\n",
      " network size: 387 nodes, 1741 arcs, 8.28012e+06 weight.\n",
      " modularity increased from 0.336623 to 0.337309\n",
      "level 2:\n",
      " network size: 27 nodes, 120 arcs, 8.28012e+06 weight.\n",
      " modularity increased from 0.337309 to 0.337313\n",
      "level 3:\n",
      " network size: 21 nodes, 88 arcs, 8.28012e+06 weight.\n",
      " modularity increased from 0.337313 to 0.337313\n"
     ]
    },
    {
     "name": "stdout",
     "output_type": "stream",
     "text": [
      "Completed processing for 202401\n",
      "Successfully processed 202401\n",
      "Processing date: 202402\n"
     ]
    },
    {
     "name": "stderr",
     "output_type": "stream",
     "text": [
      "level 0:\n",
      " network size: 58447 nodes, 522426 arcs, 7.97395e+06 weight.\n",
      " modularity increased from -0.00424934 to 0.32325\n",
      "level 1:\n",
      " network size: 364 nodes, 1701 arcs, 7.97395e+06 weight.\n",
      " modularity increased from 0.32325 to 0.330382\n",
      "level 2:\n",
      " network size: 65 nodes, 264 arcs, 7.97395e+06 weight.\n",
      " modularity increased from 0.330382 to 0.330383\n",
      "level 3:\n",
      " network size: 59 nodes, 236 arcs, 7.97395e+06 weight.\n",
      " modularity increased from 0.330383 to 0.330383\n"
     ]
    },
    {
     "name": "stdout",
     "output_type": "stream",
     "text": [
      "Completed processing for 202402\n",
      "Successfully processed 202402\n",
      "Processing date: 202403\n"
     ]
    },
    {
     "name": "stderr",
     "output_type": "stream",
     "text": [
      "level 0:\n",
      " network size: 58742 nodes, 543897 arcs, 8.39431e+06 weight.\n",
      " modularity increased from -0.00408347 to 0.326917\n",
      "level 1:\n",
      " network size: 314 nodes, 1532 arcs, 8.39431e+06 weight.\n",
      " modularity increased from 0.326917 to 0.337912\n",
      "level 2:\n",
      " network size: 28 nodes, 153 arcs, 8.39431e+06 weight.\n",
      " modularity increased from 0.337912 to 0.337916\n",
      "level 3:\n",
      " network size: 21 nodes, 105 arcs, 8.39431e+06 weight.\n",
      " modularity increased from 0.337916 to 0.337916\n"
     ]
    },
    {
     "name": "stdout",
     "output_type": "stream",
     "text": [
      "Completed processing for 202403\n",
      "Successfully processed 202403\n",
      "Processing date: 202404\n"
     ]
    },
    {
     "name": "stderr",
     "output_type": "stream",
     "text": [
      "level 0:\n",
      " network size: 58902 nodes, 527637 arcs, 8.43224e+06 weight.\n",
      " modularity increased from -0.00396893 to 0.321686\n",
      "level 1:\n",
      " network size: 285 nodes, 1285 arcs, 8.43224e+06 weight.\n",
      " modularity increased from 0.321686 to 0.328747\n",
      "level 2:\n",
      " network size: 25 nodes, 95 arcs, 8.43224e+06 weight.\n",
      " modularity increased from 0.328747 to 0.328747\n",
      "level 3:\n",
      " network size: 23 nodes, 88 arcs, 8.43224e+06 weight.\n",
      " modularity increased from 0.328747 to 0.328747\n"
     ]
    },
    {
     "name": "stdout",
     "output_type": "stream",
     "text": [
      "Completed processing for 202404\n",
      "Successfully processed 202404\n",
      "Processing date: 202405\n"
     ]
    },
    {
     "name": "stderr",
     "output_type": "stream",
     "text": [
      "level 0:\n",
      " network size: 58733 nodes, 650737 arcs, 8.81683e+06 weight.\n",
      " modularity increased from -0.00383203 to 0.326238\n",
      "level 1:\n",
      " network size: 367 nodes, 1677 arcs, 8.81683e+06 weight.\n",
      " modularity increased from 0.326238 to 0.331958\n",
      "level 2:\n",
      " network size: 32 nodes, 133 arcs, 8.81683e+06 weight.\n",
      " modularity increased from 0.331958 to 0.331965\n",
      "level 3:\n",
      " network size: 27 nodes, 98 arcs, 8.81683e+06 weight.\n",
      " modularity increased from 0.331965 to 0.331965\n"
     ]
    },
    {
     "name": "stdout",
     "output_type": "stream",
     "text": [
      "Completed processing for 202405\n",
      "Successfully processed 202405\n",
      "Processing date: 202406\n"
     ]
    },
    {
     "name": "stderr",
     "output_type": "stream",
     "text": [
      "level 0:\n",
      " network size: 58575 nodes, 656538 arcs, 8.85682e+06 weight.\n",
      " modularity increased from -0.00390512 to 0.331186\n",
      "level 1:\n",
      " network size: 330 nodes, 1524 arcs, 8.85682e+06 weight.\n",
      " modularity increased from 0.331186 to 0.338765\n",
      "level 2:\n",
      " network size: 39 nodes, 165 arcs, 8.85682e+06 weight.\n",
      " modularity increased from 0.338765 to 0.338783\n",
      "level 3:\n",
      " network size: 33 nodes, 129 arcs, 8.85682e+06 weight.\n",
      " modularity increased from 0.338783 to 0.338783\n"
     ]
    },
    {
     "name": "stdout",
     "output_type": "stream",
     "text": [
      "Completed processing for 202406\n",
      "Successfully processed 202406\n",
      "Processing date: 202407\n"
     ]
    },
    {
     "name": "stderr",
     "output_type": "stream",
     "text": [
      "level 0:\n",
      " network size: 58342 nodes, 649528 arcs, 8.92158e+06 weight.\n",
      " modularity increased from -0.00391884 to 0.328381\n",
      "level 1:\n",
      " network size: 340 nodes, 1549 arcs, 8.92158e+06 weight.\n",
      " modularity increased from 0.328381 to 0.330144\n",
      "level 2:\n",
      " network size: 36 nodes, 147 arcs, 8.92158e+06 weight.\n",
      " modularity increased from 0.330144 to 0.330152\n",
      "level 3:\n",
      " network size: 30 nodes, 109 arcs, 8.92158e+06 weight.\n",
      " modularity increased from 0.330152 to 0.330152\n"
     ]
    },
    {
     "name": "stdout",
     "output_type": "stream",
     "text": [
      "Completed processing for 202407\n",
      "Successfully processed 202407\n",
      "Processing date: 202408\n"
     ]
    },
    {
     "name": "stderr",
     "output_type": "stream",
     "text": [
      "level 0:\n",
      " network size: 58283 nodes, 520008 arcs, 8.28576e+06 weight.\n",
      " modularity increased from -0.00443253 to 0.323949\n",
      "level 1:\n",
      " network size: 351 nodes, 1586 arcs, 8.28576e+06 weight.\n",
      " modularity increased from 0.323949 to 0.32722\n",
      "level 2:\n",
      " network size: 32 nodes, 127 arcs, 8.28576e+06 weight.\n",
      " modularity increased from 0.32722 to 0.327222\n",
      "level 3:\n",
      " network size: 29 nodes, 112 arcs, 8.28576e+06 weight.\n",
      " modularity increased from 0.327222 to 0.327222\n"
     ]
    },
    {
     "name": "stdout",
     "output_type": "stream",
     "text": [
      "Completed processing for 202408\n",
      "Successfully processed 202408\n",
      "Processing date: 202409\n"
     ]
    },
    {
     "name": "stderr",
     "output_type": "stream",
     "text": [
      "level 0:\n",
      " network size: 58802 nodes, 523968 arcs, 8.5545e+06 weight.\n",
      " modularity increased from -0.00431765 to 0.337145\n",
      "level 1:\n",
      " network size: 326 nodes, 1542 arcs, 8.5545e+06 weight.\n",
      " modularity increased from 0.337145 to 0.338378\n",
      "level 2:\n",
      " network size: 28 nodes, 141 arcs, 8.5545e+06 weight.\n",
      " modularity increased from 0.338378 to 0.338383\n",
      "level 3:\n",
      " network size: 24 nodes, 116 arcs, 8.5545e+06 weight.\n",
      " modularity increased from 0.338383 to 0.338383\n"
     ]
    },
    {
     "name": "stdout",
     "output_type": "stream",
     "text": [
      "Completed processing for 202409\n",
      "Successfully processed 202409\n",
      "Processing date: 202410\n"
     ]
    },
    {
     "name": "stderr",
     "output_type": "stream",
     "text": [
      "level 0:\n",
      " network size: 76794 nodes, 697004 arcs, 9.78576e+06 weight.\n",
      " modularity increased from -0.00385818 to 0.316947\n",
      "level 1:\n",
      " network size: 484 nodes, 2664 arcs, 9.78576e+06 weight.\n",
      " modularity increased from 0.316947 to 0.323209\n",
      "level 2:\n",
      " network size: 46 nodes, 244 arcs, 9.78576e+06 weight.\n",
      " modularity increased from 0.323209 to 0.323209\n",
      "level 3:\n",
      " network size: 45 nodes, 237 arcs, 9.78576e+06 weight.\n",
      " modularity increased from 0.323209 to 0.323209\n"
     ]
    },
    {
     "name": "stdout",
     "output_type": "stream",
     "text": [
      "Completed processing for 202410\n",
      "Successfully processed 202410\n"
     ]
    }
   ],
   "execution_count": 21
  },
  {
   "metadata": {},
   "cell_type": "code",
   "outputs": [],
   "execution_count": null,
   "source": "",
   "id": "d64f5d7df3ed41d1"
  },
  {
   "metadata": {},
   "cell_type": "code",
   "outputs": [],
   "execution_count": null,
   "source": "",
   "id": "a42a50b3ab2f8c71"
  }
 ],
 "metadata": {
  "kernelspec": {
   "display_name": "Python 3",
   "language": "python",
   "name": "python3"
  },
  "language_info": {
   "codemirror_mode": {
    "name": "ipython",
    "version": 2
   },
   "file_extension": ".py",
   "mimetype": "text/x-python",
   "name": "python",
   "nbconvert_exporter": "python",
   "pygments_lexer": "ipython2",
   "version": "2.7.6"
  }
 },
 "nbformat": 4,
 "nbformat_minor": 5
}