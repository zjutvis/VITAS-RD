{
 "cells": [
  {
   "metadata": {
    "ExecuteTime": {
     "end_time": "2025-03-25T15:55:10.995736Z",
     "start_time": "2025-03-25T15:55:10.678568Z"
    }
   },
   "cell_type": "code",
   "source": [
    "import pandas as pd\n",
    "import os\n",
    "import glob\n",
    "\n",
    "# Define target output fields\n",
    "target_fields = ['community', 'size', 'organization', 'direct_ratio', ",
    " 'p2p_ratio', 'influence', 'rich_club', 'betweenness']\n",
    "\n",
    "# fieldmapping(, )\n",
    "field_mapping = {\n",
    " 'community': 'Community',\n",
    " 'size': 'Size',\n",
    " 'organization': 'Organization',\n",
    " 'direct_ratio': 'Direct Ratio',\n",
    " 'p2p_ratio': 'P2p Ratio',\n",
    " 'influence': 'Influence',\n",
    " 'rich_club': 'Rich Club',\n",
    " 'betweenness': 'Betweenness'\n",
    "}\n",
    "\n",
    "# Used to store all periods\n",
    "all_data = []\n",
    "\n",
    "# process202401202410\n",
    "for date in range(202401, 202411):\n",
    " date_str = str(date)\n",
    " file_path = f'../visualization/assets/data/{date_str}/handle/superNode_with_angle.csv'\n",
    " ",
    " if os.path.exists(file_path):\n",
    " print(f\"Processing {date_str}...\")\n",
    " ",
    " # Read data\n",
    " df = pd.read_csv(file_path)\n",
    " ",
    " # targetfield, fieldexists\n",
    " available_fields = [field for field in target_fields if field in df.columns]\n",
    " if len(available_fields) < 1:\n",
    " print(f\"No required fields found in {date_str}, skipping...\")\n",
    " continue\n",
    " ",
    " df = df[available_fields].copy()\n",
    " ",
    "\n",
    " ",
    " # Format percentage fields with %\n",
    " if 'direct_ratio' in df.columns:\n",
    " df['direct_ratio'] = df['direct_ratio'].apply(lambda x: f\"{x*100:.1f}%\")\n",
    " ",
    " if 'p2p_ratio' in df.columns:\n",
    " df['p2p_ratio'] = df['p2p_ratio'].apply(lambda x: f\"{x*100:.1f}%\")\n",
    " df = df.rename(columns=field_mapping)\n",
    " df.to_csv(f'../visualization/assets/data/{date_str}/handle/superNode_interactive.csv', index=False)\n",
    " else:\n",
    " print(f\"File not found: {file_path}\")\n"
   ],
   "id": "c805f31d72f81c6d",
   "outputs": [
    {
     "name": "stdout",
     "output_type": "stream",
     "text": [
      "Processing 202401...\n",
      "Processing 202402...\n",
      "Processing 202403...\n",
      "Processing 202404...\n",
      "Processing 202405...\n",
      "Processing 202406...\n",
      "Processing 202407...\n",
      "Processing 202408...\n",
      "Processing 202409...\n",
      "Processing 202410...\n"
     ]
    }
   ],
   "execution_count": 8
  },
  {
   "metadata": {},
   "cell_type": "code",
   "outputs": [],
   "execution_count": null,
   "source": "",
   "id": "b400a1e41cb11dab"
  }
 ],
 "metadata": {
  "kernelspec": {
   "display_name": "Python 3",
   "language": "python",
   "name": "python3"
  },
  "language_info": {
   "codemirror_mode": {
    "name": "ipython",
    "version": 2
   },
   "file_extension": ".py",
   "mimetype": "text/x-python",
   "name": "python",
   "nbconvert_exporter": "python",
   "pygments_lexer": "ipython2",
   "version": "2.7.6"
  }
 },
 "nbformat": 4,
 "nbformat_minor": 5
}