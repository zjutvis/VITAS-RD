{
 "cells": [
  {
   "cell_type": "code",
   "id": "initial_id",
   "metadata": {
    "collapsed": true,
    "ExecuteTime": {
     "end_time": "2025-03-25T14:30:03.944173Z",
     "start_time": "2025-03-25T14:30:03.941177Z"
    }
   },
   "source": "# superLink, sourcetarget, count, superLink_merge.csv",
   "outputs": [],
   "execution_count": 1
  },
  {
   "metadata": {
    "ExecuteTime": {
     "end_time": "2025-03-25T14:30:46.199253Z",
     "start_time": "2025-03-25T14:30:45.745997Z"
    }
   },
   "cell_type": "code",
   "source": [
    "import pandas as pd\n",
    "import os\n",
    "import numpy as np\n",
    "\n",
    "def process_superlink_for_month(date):\n",
    " \"\"\"\n",
    " processsuperLinkdata, sourcetarget\n",
    " ",
    " :\n",
    " date: , ( \"202401\")\n",
    " ",
    " :\n",
    " processDataFrame\n",
    " \"\"\"\n",
    " # readsuperLinkdata\n",
    " superlink_path = f'../visualization/assets/data/{date}/handle/superLink.csv'\n",
    " ",
    " if not os.path.exists(superlink_path):\n",
    " print(f\"File not found: {superlink_path}\")\n",
    " return None\n",
    " ",
    " print(f\"Processing superLink for {date}\")\n",
    " data = pd.read_csv(superlink_path)\n",
    " ",
    " # datacolumn\n",
    " required_columns = ['source', 'target', 'count']\n",
    " if not all(col in data.columns for col in required_columns):\n",
    " missing = [col for col in required_columns if col not in data.columns]\n",
    " print(f\"Missing required columns: {missing}\")\n",
    " return None\n",
    " ",
    " # createcolumn, sourcetarget\n",
    " data['min_node'] = data[['source', 'target']].min(axis=1)\n",
    " data['max_node'] = data[['source', 'target']].max(axis=1)\n",
    " ",
    " # min_nodemax_nodecount\n",
    " merged_data = data.groupby(['min_node', 'max_node'], as_index=False)['count'].sum()\n",
    " ",
    " # columnformat\n",
    " merged_data.rename(columns={'min_node': 'source', 'max_node': 'target'}, inplace=True)\n",
    " ",
    " # save\n",
    " result_path = f'../visualization/assets/data/{date}/handle/superLink_merge.csv'\n",
    " merged_data.to_csv(result_path, index=False)\n",
    " print(f\"Saved merged superLink to {result_path}\")\n",
    " ",
    " # check, ",
    " original_rows = len(data)\n",
    " merged_rows = len(merged_data)\n",
    " print(f\"Original rows: {original_rows}, Merged rows: {merged_rows}\")\n",
    " print(f\"Reduced by: {original_rows - merged_rows} rows ({((original_rows - merged_rows) / original_rows * 100):.2f}%)\")\n",
    " ",
    " return merged_data\n"
   ],
   "id": "450cc9f0c0c29f43",
   "outputs": [],
   "execution_count": 2
  },
  {
   "metadata": {
    "ExecuteTime": {
     "end_time": "2025-03-25T14:30:47.069661Z",
     "start_time": "2025-03-25T14:30:46.775200Z"
    }
   },
   "cell_type": "code",
   "source": [
    "# process202401202410\n",
    "for date in range(202401, 202411):\n",
    " try:\n",
    " process_superlink_for_month(str(date))\n",
    " except Exception as e:\n",
    " print(f\"Error processing {date}: {str(e)}\")\n"
   ],
   "id": "457aad4d4ccfed92",
   "outputs": [
    {
     "name": "stdout",
     "output_type": "stream",
     "text": [
      "Processing superLink for 202401\n",
      "Saved merged superLink to ../visualization/assets/data/202401/handle/superLink_merge.csv\n",
      "Original rows: 67, Merged rows: 45\n",
      "Reduced by: 22 rows (32.84%)\n",
      "Processing superLink for 202402\n",
      "Saved merged superLink to ../visualization/assets/data/202402/handle/superLink_merge.csv\n",
      "Original rows: 177, Merged rows: 123\n",
      "Reduced by: 54 rows (30.51%)\n",
      "Processing superLink for 202403\n",
      "Saved merged superLink to ../visualization/assets/data/202403/handle/superLink_merge.csv\n",
      "Original rows: 84, Merged rows: 53\n",
      "Reduced by: 31 rows (36.90%)\n",
      "Processing superLink for 202404\n",
      "Saved merged superLink to ../visualization/assets/data/202404/handle/superLink_merge.csv\n",
      "Original rows: 65, Merged rows: 40\n",
      "Reduced by: 25 rows (38.46%)\n",
      "Processing superLink for 202405\n",
      "Saved merged superLink to ../visualization/assets/data/202405/handle/superLink_merge.csv\n",
      "Original rows: 71, Merged rows: 47\n",
      "Reduced by: 24 rows (33.80%)\n",
      "Processing superLink for 202406\n",
      "Saved merged superLink to ../visualization/assets/data/202406/handle/superLink_merge.csv\n",
      "Original rows: 96, Merged rows: 70\n",
      "Reduced by: 26 rows (27.08%)\n",
      "Processing superLink for 202407\n",
      "Saved merged superLink to ../visualization/assets/data/202407/handle/superLink_merge.csv\n",
      "Original rows: 79, Merged rows: 52\n",
      "Reduced by: 27 rows (34.18%)\n",
      "Processing superLink for 202408\n",
      "Saved merged superLink to ../visualization/assets/data/202408/handle/superLink_merge.csv\n",
      "Original rows: 83, Merged rows: 59\n",
      "Reduced by: 24 rows (28.92%)\n",
      "Processing superLink for 202409\n",
      "Saved merged superLink to ../visualization/assets/data/202409/handle/superLink_merge.csv\n",
      "Original rows: 92, Merged rows: 56\n",
      "Reduced by: 36 rows (39.13%)\n",
      "Processing superLink for 202410\n",
      "Saved merged superLink to ../visualization/assets/data/202410/handle/superLink_merge.csv\n",
      "Original rows: 192, Merged rows: 133\n",
      "Reduced by: 59 rows (30.73%)\n"
     ]
    }
   ],
   "execution_count": 3
  },
  {
   "metadata": {},
   "cell_type": "code",
   "outputs": [],
   "execution_count": null,
   "source": [
    "# - ",
    "example_date = \"202401\"\n",
    "example_path = f'../visualization/assets/data/{example_date}/handle/superLink_merge.csv'\n",
    "if os.path.exists(example_path):\n",
    " example_data = pd.read_csv(example_path)\n",
    " print(f\"\\nExample merged data for {example_date}:\")\n",
    " print(example_data.head())\n",
    " print(f\"Total merged links: {len(example_data)}\")\n"
   ],
   "id": "e89c0caf8d46c0df"
  }
 ],
 "metadata": {
  "kernelspec": {
   "display_name": "Python 3",
   "language": "python",
   "name": "python3"
  },
  "language_info": {
   "codemirror_mode": {
    "name": "ipython",
    "version": 2
   },
   "file_extension": ".py",
   "mimetype": "text/x-python",
   "name": "python",
   "nbconvert_exporter": "python",
   "pygments_lexer": "ipython2",
   "version": "2.7.6"
  }
 },
 "nbformat": 4,
 "nbformat_minor": 5
}