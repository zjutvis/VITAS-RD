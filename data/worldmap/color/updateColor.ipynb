{
 "cells": [
  {
   "metadata": {
    "ExecuteTime": {
     "end_time": "2025-04-16T08:03:43.631572Z",
     "start_time": "2025-04-16T08:03:43.608116Z"
    }
   },
   "cell_type": "code",
   "source": [
    "import pandas as pd\n",
    "import os\n",
    "\n",
    "# 读取CSV文件\n",
    "input_file = 'data (1).csv'\n",
    "output_file = 'data_updated.csv'\n",
    "\n",
    "df = pd.read_csv(input_file)\n",
    "\n",
    "color_mapping = {\n",
    "    0: '#feeccc',  # 深蓝色\n",
    "    1: '#fbc289',  # 中蓝色\n",
    "    2: '#f38834',  # 浅蓝色\n",
    "    3: '#326db6',  # 极浅蓝色\n",
    "    4: '#a8dde1',  # 中紫色\n",
    "    5: '#75b5dc'   # 浅紫色\n",
    "}\n",
    "\n",
    "# 创建一个映射，将颜色组与新的颜色对应起来\n",
    "color_group_to_color = {}\n",
    "for i in range(6):\n",
    "    color_group_to_color[i] = color_mapping[i]\n",
    "\n",
    "# 更新每一行的Color列，根据ColorGroup\n",
    "def update_color(row):\n",
    "    color_group = row['ColorGroup']\n",
    "    if color_group in color_group_to_color:\n",
    "        return color_group_to_color[color_group]\n",
    "    return row['Color']  # 如果没有匹配项，保持原样\n",
    "\n",
    "df['Color'] = df.apply(update_color, axis=1)\n",
    "\n",
    "# 保存更新后的CSV文件\n",
    "df.to_csv(output_file, index=False)\n",
    "print(f\"已更新颜色并保存到 {output_file}\")\n",
    "\n",
    "# 显示前几行验证结果\n",
    "df.head()\n"
   ],
   "id": "81236c0a3633f5d8",
   "outputs": [
    {
     "name": "stdout",
     "output_type": "stream",
     "text": [
      "已更新颜色并保存到 data_updated.csv\n"
     ]
    },
    {
     "data": {
      "text/plain": [
       "        Region RegionLabel    Color  ColorGroup  cone (size)\n",
       "0  Afghanistan          AF  #326db6           3          140\n",
       "1      Albania          AL  #326db6           3          215\n",
       "2      Algeria          DZ  #fbc289           1           16\n",
       "3      Andorra          AD  #75b5dc           5            1\n",
       "4       Angola          AO  #feeccc           0         2500"
      ],
      "text/html": [
       "<div>\n",
       "<style scoped>\n",
       "    .dataframe tbody tr th:only-of-type {\n",
       "        vertical-align: middle;\n",
       "    }\n",
       "\n",
       "    .dataframe tbody tr th {\n",
       "        vertical-align: top;\n",
       "    }\n",
       "\n",
       "    .dataframe thead th {\n",
       "        text-align: right;\n",
       "    }\n",
       "</style>\n",
       "<table border=\"1\" class=\"dataframe\">\n",
       "  <thead>\n",
       "    <tr style=\"text-align: right;\">\n",
       "      <th></th>\n",
       "      <th>Region</th>\n",
       "      <th>RegionLabel</th>\n",
       "      <th>Color</th>\n",
       "      <th>ColorGroup</th>\n",
       "      <th>cone (size)</th>\n",
       "    </tr>\n",
       "  </thead>\n",
       "  <tbody>\n",
       "    <tr>\n",
       "      <th>0</th>\n",
       "      <td>Afghanistan</td>\n",
       "      <td>AF</td>\n",
       "      <td>#326db6</td>\n",
       "      <td>3</td>\n",
       "      <td>140</td>\n",
       "    </tr>\n",
       "    <tr>\n",
       "      <th>1</th>\n",
       "      <td>Albania</td>\n",
       "      <td>AL</td>\n",
       "      <td>#326db6</td>\n",
       "      <td>3</td>\n",
       "      <td>215</td>\n",
       "    </tr>\n",
       "    <tr>\n",
       "      <th>2</th>\n",
       "      <td>Algeria</td>\n",
       "      <td>DZ</td>\n",
       "      <td>#fbc289</td>\n",
       "      <td>1</td>\n",
       "      <td>16</td>\n",
       "    </tr>\n",
       "    <tr>\n",
       "      <th>3</th>\n",
       "      <td>Andorra</td>\n",
       "      <td>AD</td>\n",
       "      <td>#75b5dc</td>\n",
       "      <td>5</td>\n",
       "      <td>1</td>\n",
       "    </tr>\n",
       "    <tr>\n",
       "      <th>4</th>\n",
       "      <td>Angola</td>\n",
       "      <td>AO</td>\n",
       "      <td>#feeccc</td>\n",
       "      <td>0</td>\n",
       "      <td>2500</td>\n",
       "    </tr>\n",
       "  </tbody>\n",
       "</table>\n",
       "</div>"
      ]
     },
     "execution_count": 7,
     "metadata": {},
     "output_type": "execute_result"
    }
   ],
   "execution_count": 7
  },
  {
   "metadata": {
    "ExecuteTime": {
     "end_time": "2025-04-16T08:03:44.032330Z",
     "start_time": "2025-04-16T08:03:44.026844Z"
    }
   },
   "cell_type": "code",
   "source": [
    "# 统计每个颜色组别的数量\n",
    "group_counts = df['ColorGroup'].value_counts().sort_index()\n",
    "print(\"各颜色组别的数量统计：\")\n",
    "for group, count in group_counts.items():\n",
    "    print(f\"组别 {group}: {count} 个国家，使用颜色: {color_mapping[group]}\")\n"
   ],
   "id": "d0382a7510f66ce4",
   "outputs": [
    {
     "name": "stdout",
     "output_type": "stream",
     "text": [
      "各颜色组别的数量统计：\n",
      "组别 0: 35 个国家，使用颜色: #feeccc\n",
      "组别 1: 34 个国家，使用颜色: #fbc289\n",
      "组别 2: 33 个国家，使用颜色: #f38834\n",
      "组别 3: 29 个国家，使用颜色: #326db6\n",
      "组别 4: 32 个国家，使用颜色: #a8dde1\n",
      "组别 5: 35 个国家，使用颜色: #75b5dc\n"
     ]
    }
   ],
   "execution_count": 8
  },
  {
   "metadata": {
    "ExecuteTime": {
     "end_time": "2025-04-16T08:03:44.694657Z",
     "start_time": "2025-04-16T08:03:44.692260Z"
    }
   },
   "cell_type": "code",
   "source": "",
   "id": "b7c292a17419de2a",
   "outputs": [],
   "execution_count": null
  },
  {
   "metadata": {},
   "cell_type": "code",
   "outputs": [],
   "execution_count": null,
   "source": "",
   "id": "5dadf96661cde04"
  }
 ],
 "metadata": {
  "kernelspec": {
   "display_name": "Python 3",
   "language": "python",
   "name": "python3"
  },
  "language_info": {
   "codemirror_mode": {
    "name": "ipython",
    "version": 2
   },
   "file_extension": ".py",
   "mimetype": "text/x-python",
   "name": "python",
   "nbconvert_exporter": "python",
   "pygments_lexer": "ipython2",
   "version": "2.7.6"
  }
 },
 "nbformat": 4,
 "nbformat_minor": 5
}
